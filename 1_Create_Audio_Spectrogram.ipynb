{
  "nbformat": 4,
  "nbformat_minor": 0,
  "metadata": {
    "colab": {
      "name": "1. Create Audio Spectrogram",
      "provenance": [],
      "collapsed_sections": [],
      "toc_visible": true,
      "mount_file_id": "1k14MsMrMNo2A61iPLk9YaU8PDmn8XstA",
      "authorship_tag": "ABX9TyOWw/hx5CkQ+QXG/9P3MaQC",
      "include_colab_link": true
    },
    "kernelspec": {
      "name": "python3",
      "display_name": "Python 3"
    },
    "language_info": {
      "name": "python"
    }
  },
  "cells": [
    {
      "cell_type": "markdown",
      "metadata": {
        "id": "view-in-github",
        "colab_type": "text"
      },
      "source": [
        "<a href=\"https://colab.research.google.com/github/PratikStar/google-colab/blob/main/1_Create_Audio_Spectrogram.ipynb\" target=\"_parent\"><img src=\"https://colab.research.google.com/assets/colab-badge.svg\" alt=\"Open In Colab\"/></a>"
      ]
    },
    {
      "cell_type": "code",
      "metadata": {
        "colab": {
          "base_uri": "https://localhost:8080/"
        },
        "id": "_KMFwAcHRdjx",
        "outputId": "352a59fa-40d4-4c97-862e-9e4e9367ef03"
      },
      "source": [
        "from google.colab import drive\n",
        "drive.mount('/content/drive')"
      ],
      "execution_count": null,
      "outputs": [
        {
          "output_type": "stream",
          "text": [
            "Drive already mounted at /content/drive; to attempt to forcibly remount, call drive.mount(\"/content/drive\", force_remount=True).\n"
          ],
          "name": "stdout"
        }
      ]
    },
    {
      "cell_type": "markdown",
      "metadata": {
        "id": "kfChkUfy4wwH"
      },
      "source": [
        "## Pipeline Classes"
      ]
    },
    {
      "cell_type": "code",
      "metadata": {
        "id": "geYxumIg3a6L"
      },
      "source": [
        "\"\"\"\n",
        "1- load a file\n",
        "2- pad the signal (if necessary)\n",
        "3- extracting log spectrogram from signal\n",
        "4- normalise spectrogram\n",
        "5- save the normalised spectrogram\n",
        "\n",
        "PreprocessingPipeline\n",
        "\"\"\"\n",
        "import os\n",
        "import pickle\n",
        "import re\n",
        "import librosa\n",
        "import librosa.display\n",
        "import numpy as np\n",
        "import matplotlib.pyplot as plt\n",
        "import inspect\n",
        "import soundfile as sf\n",
        "\n",
        "SHOW_LOGS = True\n",
        "LOG_LEVEL = 1\n",
        "def log(logline, log_level = 1):\n",
        "    if SHOW_LOGS and log_level <= LOG_LEVEL:\n",
        "        stack = inspect.stack()\n",
        "        the_class = stack[1][0].f_locals[\"self\"].__class__.__name__\n",
        "        the_method = stack[1][0].f_code.co_name\n",
        "        print(the_class + \": \" + logline)\n",
        "\n",
        "class Loader:\n",
        "    \"\"\"Loader is responsible for loading an audio file.\"\"\"\n",
        "\n",
        "    def __init__(self, sample_rate, offset, duration, mono):\n",
        "        self.sample_rate = sample_rate\n",
        "        self.duration = duration\n",
        "        self.offset = offset\n",
        "        self.mono = mono\n",
        "\n",
        "    def load(self, file_path):\n",
        "        signal = librosa.load(file_path,\n",
        "                              sr=self.sample_rate,\n",
        "                              duration=self.duration,\n",
        "                              offset=self.offset,\n",
        "                              mono=self.mono)[0]\n",
        "        log(\"Shape of the loaded signal: \" + str(signal.shape), 1)\n",
        "        log(\"Mean of the loaded signal: \" + str(np.mean(signal)), 5)\n",
        "        log(\"Min of the loaded signal: \" + str(np.amin(signal)), 5)\n",
        "        log(\"Max of the loaded signal: \" + str(np.amax(signal)), 5)\n",
        "        log(\"Raw signal: \" + str(signal), 5)\n",
        "        return signal\n",
        "\n",
        "\n",
        "class Padder:\n",
        "    \"\"\"Padder is responsible to apply padding to an array.\"\"\"\n",
        "\n",
        "    def __init__(self, mode=\"constant\"):\n",
        "        self.mode = mode\n",
        "\n",
        "    def left_pad(self, array, num_missing_items):\n",
        "        padded_array = np.pad(array,\n",
        "                              (num_missing_items, 0),\n",
        "                              mode=self.mode)\n",
        "        return padded_array\n",
        "\n",
        "    def right_pad(self, array, num_missing_items):\n",
        "        padded_array = np.pad(array,\n",
        "                              (0, num_missing_items),\n",
        "                              mode=self.mode)\n",
        "        return padded_array\n",
        "\n",
        "\n",
        "class LogSpectrogramExtractor:\n",
        "    \"\"\"LogSpectrogramExtractor extracts log spectrograms (in dB) from a\n",
        "    time-series signal.\n",
        "    \"\"\"\n",
        "\n",
        "    def __init__(self, frame_size, hop_length):\n",
        "        self.frame_size = frame_size\n",
        "        self.hop_length = hop_length\n",
        "\n",
        "    def extract(self, signal):\n",
        "        stft = librosa.stft(signal,\n",
        "                            n_fft=self.frame_size,\n",
        "                            hop_length=self.hop_length)[:-1]\n",
        "        log(\"Shape of stft: \" + str(stft.shape), 1)\n",
        "        spectrogram = np.abs(stft)\n",
        "        log_spectrogram = librosa.amplitude_to_db(spectrogram)\n",
        "        return log_spectrogram\n",
        "\n",
        "class FeatureExtractor:\n",
        "    \"\"\" Extracts the required features\"\"\"\n",
        "\n",
        "    def extract_ampid_from_name(self, filename):\n",
        "        amp_id = int(filename.split('-')[0])\n",
        "        log(\"Amp ID: \" + str(amp_id), 5)\n",
        "        return amp_id\n",
        "    def extract_clipid_from_name(self, filename):\n",
        "        clip_id = int(filename.split('-')[0])\n",
        "        log(\"Clip ID: \" + str(clip_id), 5)\n",
        "        return clip_id\n",
        "\n",
        "class MinMaxNormaliser:\n",
        "    \"\"\"MinMaxNormaliser applies min max normalisation to an array.\"\"\"\n",
        "\n",
        "    def __init__(self, min_val, max_val):\n",
        "        self.min = min_val\n",
        "        self.max = max_val\n",
        "\n",
        "    def normalise(self, array):\n",
        "\n",
        "        norm_array = (array - array.min()) / (array.max() - array.min())\n",
        "        norm_array = norm_array * (self.max - self.min) + self.min\n",
        "        log(\"Shape of norm_array: \" + str(norm_array.shape), 1)\n",
        "        log(\"Max of norm_array: \" + str((array.max())), 5)\n",
        "        log(\"Min of norm_array: \" + str((array.min())), 5)\n",
        "        return norm_array\n",
        "\n",
        "    def denormalise(self, norm_array, original_min, original_max):\n",
        "        array = (norm_array - self.min) / (self.max - self.min)\n",
        "        array = array * (original_max - original_min) + original_min\n",
        "        return array\n",
        "\n",
        "\n",
        "class Saver:\n",
        "    \"\"\"saver is responsible to save features, and the min max values.\"\"\"\n",
        "\n",
        "    def __init__(self, feature_save_dir, min_max_values_save_dir):\n",
        "        self.feature_save_dir = feature_save_dir\n",
        "        Utils._create_folder_if_it_doesnt_exist(self.feature_save_dir)\n",
        "        self.min_max_values_save_dir = min_max_values_save_dir\n",
        "\n",
        "    def save_feature(self, feature, file_path):\n",
        "        save_path = self._generate_save_path(file_path)\n",
        "        np.save(save_path, feature)\n",
        "\n",
        "    def save_min_max_values(self, min_max_values):\n",
        "        save_path = os.path.join(self.min_max_values_save_dir,\n",
        "                                 \"min_max_values.pkl\")\n",
        "        self._save(min_max_values, save_path)\n",
        "\n",
        "    @staticmethod\n",
        "    def _save(data, save_path):\n",
        "        with open(save_path, \"wb\") as f:\n",
        "            pickle.dump(data, f)\n",
        "\n",
        "    def _generate_save_path(self, file_path):\n",
        "        file_name = os.path.split(file_path)[1]\n",
        "        save_path = os.path.join(self.feature_save_dir, file_name + \".npy\")\n",
        "        return save_path\n",
        "\n",
        "class Visualizer:\n",
        "    def __init__(self, file_dir, frame_size, hop_length, offset):\n",
        "        self.file_dir = file_dir\n",
        "        self.frame_size = frame_size\n",
        "        self.hop_length = hop_length\n",
        "        self.offset = offset\n",
        "        pass\n",
        "    \n",
        "    def visualize(self, spectrogram, file_name):\n",
        "        self.fig, self.ax = plt.subplots()\n",
        "        img = librosa.display.specshow(spectrogram, y_axis='log', x_axis='time', ax=self.ax)\n",
        "        self.ax.set_title(\"Frame Size: \" + str(self.frame_size) + \", Hop Length: \" + str(self.hop_length) + \", Offset: \" + str(self.offset))\n",
        "        self.fig.colorbar(img, ax=self.ax, format=\"%+2.0f dB\")\n",
        "        Utils._create_folder_if_it_doesnt_exist(self.file_dir)\n",
        "        self.fig.savefig(os.path.join(self.file_dir, file_name + \".png\"))\n",
        "\n",
        "class Utils:\n",
        "    def __init__(self):\n",
        "        pass\n",
        "    @staticmethod\n",
        "    def _create_folder_if_it_doesnt_exist(folder):\n",
        "        if not os.path.exists(folder):\n",
        "            os.makedirs(folder)\n",
        "\n",
        "class AudioReconstructor:\n",
        "    \"\"\"Processes stft inverse and saves the audio file\"\"\"\n",
        "    def __init__(self, file_dir, hop_length, frame_size):\n",
        "        self.file_dir = file_dir\n",
        "        self.hop_length = hop_length\n",
        "        self.frame_size = frame_size\n",
        "\n",
        "    def reconstruct(self, features, file_name):\n",
        "        # Invert using Griffin-Lim\n",
        "        log(\"Shape of features: \" + str(features.shape), 1)\n",
        "        features_inv = librosa.griffinlim(features,\n",
        "                                          hop_length=self.hop_length,\n",
        "                                          win_length=self.frame_size)\n",
        "        log(\"Shape of Inverse features: \" + str(features_inv.shape), 1)\n",
        "        Utils._create_folder_if_it_doesnt_exist(self.file_dir)\n",
        "        sf.write(os.path.join(self.file_dir, file_name ), y_inv, 22050)\n",
        "        # save audio\n",
        "    def reconstruct_from_path(self, file_path):\n",
        "        # Invert using Griffin-Lim\n",
        "        features = np.load(file_path)\n",
        "        self.reconstruct(features, os.path.basename(file_path))\n",
        "    \n",
        "class PreprocessingPipeline:\n",
        "    \"\"\"PreprocessingPipeline processes audio files in a directory, applying\n",
        "    the following steps to each file:\n",
        "        1- load a file\n",
        "        2- pad the signal (if necessary)\n",
        "        3- extracting log spectrogram from signal\n",
        "        4- normalise spectrogram\n",
        "        5- save the normalised spectrogram\n",
        "\n",
        "    Storing the min max values for all the log spectrograms.\n",
        "    \"\"\"\n",
        "\n",
        "    def __init__(self):\n",
        "        self.padder = None\n",
        "        self.extractor = None\n",
        "        self.feature_extractor = None\n",
        "        self.normaliser = None\n",
        "        self.saver = None\n",
        "        self.visualizer = None\n",
        "        self.reconstructor = None\n",
        "        self.min_max_values = {}\n",
        "        self._loader = None\n",
        "        self._num_expected_samples = None\n",
        "\n",
        "    @property\n",
        "    def loader(self):\n",
        "        return self._loader\n",
        "\n",
        "    @loader.setter\n",
        "    def loader(self, loader):\n",
        "        self._loader = loader\n",
        "        self._num_expected_samples = int(loader.sample_rate * loader.duration)\n",
        "\n",
        "    def process(self, audio_files_dir, regex, number_of_clips, save_flg=True, visualize_flg=True):\n",
        "        for root, _, files in os.walk(audio_files_dir):\n",
        "            for file in files:\n",
        "                if re.match(regex, file) and number_of_clips > 0:\n",
        "                    number_of_clips -= 1\n",
        "                    self._process_file(root, file, save_flg, visualize_flg)\n",
        "        self.saver.save_min_max_values(self.min_max_values)\n",
        "\n",
        "    def _process_file(self, file_dir, file_name, save_flg, visualize_flg):\n",
        "        file_path = os.path.join(file_dir, file_name)\n",
        "\n",
        "        signal = self.loader.load(file_path)\n",
        "        external_features = [ self.feature_extractor.extract_ampid_from_name(file_name),\n",
        "                              self.feature_extractor.extract_clipid_from_name(file_name),                         \n",
        "                            ]\n",
        "        signal = np.concatenate((external_features, signal))\n",
        "\n",
        "        if self._is_padding_necessary(signal):\n",
        "            signal = self._apply_padding(signal)\n",
        "        feature = self.extractor.extract(signal)\n",
        "\n",
        "        norm_feature = self.normaliser.normalise(feature)\n",
        "\n",
        "        # reconstructor.reconstruct(norm_feature, file_name)\n",
        "\n",
        "        if visualize_flg:\n",
        "            self.visualizer.visualize(norm_feature, file_name)\n",
        "\n",
        "        if save_flg:\n",
        "            save_path = self.saver.save_feature(norm_feature, file_path)\n",
        "            self._store_min_max_value(save_path, feature.min(), feature.max())\n",
        "        log(f\"Processed file {file_name}\", 5)\n",
        "\n",
        "    def _is_padding_necessary(self, signal):\n",
        "        if len(signal) < self._num_expected_samples:\n",
        "            log(\"Padding necessary\", 5)\n",
        "            log(\"Signal: \" + str(len(signal)), 5)\n",
        "            log(\"Exp samples: \" + str(self._num_expected_samples), 5)\n",
        "            return True\n",
        "        return False\n",
        "\n",
        "    def _apply_padding(self, signal):\n",
        "        num_missing_samples = self._num_expected_samples - len(signal)\n",
        "        padded_signal = self.padder.right_pad(signal, num_missing_samples)\n",
        "        return padded_signal\n",
        "\n",
        "    def _store_min_max_value(self, save_path, min_val, max_val):\n",
        "        self.min_max_values[save_path] = {\n",
        "            \"min\": min_val,\n",
        "            \"max\": max_val\n",
        "        }\n"
      ],
      "execution_count": 54,
      "outputs": []
    },
    {
      "cell_type": "markdown",
      "metadata": {
        "id": "OsUH1H5z4syc"
      },
      "source": [
        "## Driver Code"
      ]
    },
    {
      "cell_type": "code",
      "metadata": {
        "colab": {
          "base_uri": "https://localhost:8080/",
          "height": 426
        },
        "id": "FRRijJuhxnYl",
        "outputId": "03843708-4529-433f-fe32-b324a7b9a3ec"
      },
      "source": [
        "FRAME_SIZE = 512\n",
        "HOP_LENGTH = FRAME_SIZE // 2 # smaller better?\n",
        "OFFSET = 0.5\n",
        "DURATION = 0.74  # in seconds\n",
        "SAMPLE_RATE = 22050\n",
        "MONO = True\n",
        "\n",
        "# Dimensions: (FRAME_SIZE / 2) x ceil(SAMPLE_RATE * DURATION / HOP_LENGTH)\n",
        "\n",
        "AUDIO_FILES_DIR = \"/content/drive/MyDrive/Music/VAE/audio/\"\n",
        "FILE_NAME_REGEX = \".*-01 .*\\.wav$\"\n",
        "\n",
        "SPECTROGRAMS_SAVE_DIR = \"/content/drive/MyDrive/Music/VAE/spectrogram/\"\n",
        "SPECTROGRAMS_IMG_SAVE_DIR = \"/content/drive/MyDrive/Music/VAE/spectrogram-img/\"\n",
        "RECONSTRUCTED_AUDIO_SAVE_DIR = \"/content/drive/MyDrive/Music/VAE/audio-reconstructed/\"\n",
        "MIN_MAX_VALUES_SAVE_DIR = \"/content/drive/MyDrive/Music/VAE/\"\n",
        "\n",
        "NUMBER_OF_CLIPS = 1\n",
        "\n",
        "# instantiate all objects\n",
        "loader = Loader(SAMPLE_RATE, OFFSET, DURATION, MONO)\n",
        "padder = Padder()\n",
        "log_spectrogram_extractor = LogSpectrogramExtractor(FRAME_SIZE, HOP_LENGTH)\n",
        "feature_extractor = FeatureExtractor()\n",
        "min_max_normaliser = MinMaxNormaliser(0, 1)\n",
        "saver = Saver(SPECTROGRAMS_SAVE_DIR, MIN_MAX_VALUES_SAVE_DIR)\n",
        "visualizer = Visualizer(SPECTROGRAMS_IMG_SAVE_DIR, FRAME_SIZE, HOP_LENGTH, OFFSET)\n",
        "reconstructor = AudioReconstructor(RECONSTRUCTED_AUDIO_SAVE_DIR, HOP_LENGTH, FRAME_SIZE)\n",
        "\n",
        "preprocessing_pipeline = PreprocessingPipeline()\n",
        "preprocessing_pipeline.loader = loader\n",
        "preprocessing_pipeline.padder = padder\n",
        "preprocessing_pipeline.extractor = log_spectrogram_extractor\n",
        "preprocessing_pipeline.feature_extractor = feature_extractor\n",
        "preprocessing_pipeline.normaliser = min_max_normaliser\n",
        "preprocessing_pipeline.saver = saver\n",
        "preprocessing_pipeline.visualizer = visualizer\n",
        "preprocessing_pipeline.reconstructor = reconstructor\n",
        "\n",
        "preprocessing_pipeline.process(AUDIO_FILES_DIR, FILE_NAME_REGEX, NUMBER_OF_CLIPS, save_flg=False, visualize_flg=False)"
      ],
      "execution_count": 53,
      "outputs": [
        {
          "output_type": "stream",
          "name": "stdout",
          "text": [
            "Loader: Shape of the loaded signal: (16317,)\n",
            "LogSpectrogramExtractor: Shape of stft: (256, 64)\n",
            "MinMaxNormaliser: Shape of norm_array: (256, 64)\n",
            "AudioReconstructor: Shape of features: (256, 64)\n"
          ]
        },
        {
          "output_type": "error",
          "ename": "ParameterError",
          "evalue": "ignored",
          "traceback": [
            "\u001b[0;31m---------------------------------------------------------------------------\u001b[0m",
            "\u001b[0;31mParameterError\u001b[0m                            Traceback (most recent call last)",
            "\u001b[0;32m<ipython-input-53-26952d01af92>\u001b[0m in \u001b[0;36m<module>\u001b[0;34m()\u001b[0m\n\u001b[1;32m     38\u001b[0m \u001b[0mpreprocessing_pipeline\u001b[0m\u001b[0;34m.\u001b[0m\u001b[0mreconstructor\u001b[0m \u001b[0;34m=\u001b[0m \u001b[0mreconstructor\u001b[0m\u001b[0;34m\u001b[0m\u001b[0;34m\u001b[0m\u001b[0m\n\u001b[1;32m     39\u001b[0m \u001b[0;34m\u001b[0m\u001b[0m\n\u001b[0;32m---> 40\u001b[0;31m \u001b[0mpreprocessing_pipeline\u001b[0m\u001b[0;34m.\u001b[0m\u001b[0mprocess\u001b[0m\u001b[0;34m(\u001b[0m\u001b[0mAUDIO_FILES_DIR\u001b[0m\u001b[0;34m,\u001b[0m \u001b[0mFILE_NAME_REGEX\u001b[0m\u001b[0;34m,\u001b[0m \u001b[0mNUMBER_OF_CLIPS\u001b[0m\u001b[0;34m,\u001b[0m \u001b[0msave_flg\u001b[0m\u001b[0;34m=\u001b[0m\u001b[0;32mFalse\u001b[0m\u001b[0;34m,\u001b[0m \u001b[0mvisualize_flg\u001b[0m\u001b[0;34m=\u001b[0m\u001b[0;32mFalse\u001b[0m\u001b[0;34m)\u001b[0m\u001b[0;34m\u001b[0m\u001b[0;34m\u001b[0m\u001b[0m\n\u001b[0m",
            "\u001b[0;32m<ipython-input-52-6af34a4aa6f8>\u001b[0m in \u001b[0;36mprocess\u001b[0;34m(self, audio_files_dir, regex, number_of_clips, save_flg, visualize_flg)\u001b[0m\n\u001b[1;32m    232\u001b[0m                 \u001b[0;32mif\u001b[0m \u001b[0mre\u001b[0m\u001b[0;34m.\u001b[0m\u001b[0mmatch\u001b[0m\u001b[0;34m(\u001b[0m\u001b[0mregex\u001b[0m\u001b[0;34m,\u001b[0m \u001b[0mfile\u001b[0m\u001b[0;34m)\u001b[0m \u001b[0;32mand\u001b[0m \u001b[0mnumber_of_clips\u001b[0m \u001b[0;34m>\u001b[0m \u001b[0;36m0\u001b[0m\u001b[0;34m:\u001b[0m\u001b[0;34m\u001b[0m\u001b[0;34m\u001b[0m\u001b[0m\n\u001b[1;32m    233\u001b[0m                     \u001b[0mnumber_of_clips\u001b[0m \u001b[0;34m-=\u001b[0m \u001b[0;36m1\u001b[0m\u001b[0;34m\u001b[0m\u001b[0;34m\u001b[0m\u001b[0m\n\u001b[0;32m--> 234\u001b[0;31m                     \u001b[0mself\u001b[0m\u001b[0;34m.\u001b[0m\u001b[0m_process_file\u001b[0m\u001b[0;34m(\u001b[0m\u001b[0mroot\u001b[0m\u001b[0;34m,\u001b[0m \u001b[0mfile\u001b[0m\u001b[0;34m,\u001b[0m \u001b[0msave_flg\u001b[0m\u001b[0;34m,\u001b[0m \u001b[0mvisualize_flg\u001b[0m\u001b[0;34m)\u001b[0m\u001b[0;34m\u001b[0m\u001b[0;34m\u001b[0m\u001b[0m\n\u001b[0m\u001b[1;32m    235\u001b[0m         \u001b[0mself\u001b[0m\u001b[0;34m.\u001b[0m\u001b[0msaver\u001b[0m\u001b[0;34m.\u001b[0m\u001b[0msave_min_max_values\u001b[0m\u001b[0;34m(\u001b[0m\u001b[0mself\u001b[0m\u001b[0;34m.\u001b[0m\u001b[0mmin_max_values\u001b[0m\u001b[0;34m)\u001b[0m\u001b[0;34m\u001b[0m\u001b[0;34m\u001b[0m\u001b[0m\n\u001b[1;32m    236\u001b[0m \u001b[0;34m\u001b[0m\u001b[0m\n",
            "\u001b[0;32m<ipython-input-52-6af34a4aa6f8>\u001b[0m in \u001b[0;36m_process_file\u001b[0;34m(self, file_dir, file_name, save_flg, visualize_flg)\u001b[0m\n\u001b[1;32m    250\u001b[0m         \u001b[0mnorm_feature\u001b[0m \u001b[0;34m=\u001b[0m \u001b[0mself\u001b[0m\u001b[0;34m.\u001b[0m\u001b[0mnormaliser\u001b[0m\u001b[0;34m.\u001b[0m\u001b[0mnormalise\u001b[0m\u001b[0;34m(\u001b[0m\u001b[0mfeature\u001b[0m\u001b[0;34m)\u001b[0m\u001b[0;34m\u001b[0m\u001b[0;34m\u001b[0m\u001b[0m\n\u001b[1;32m    251\u001b[0m \u001b[0;34m\u001b[0m\u001b[0m\n\u001b[0;32m--> 252\u001b[0;31m         \u001b[0mreconstructor\u001b[0m\u001b[0;34m.\u001b[0m\u001b[0mreconstruct\u001b[0m\u001b[0;34m(\u001b[0m\u001b[0mfeature\u001b[0m\u001b[0;34m,\u001b[0m \u001b[0mfile_name\u001b[0m\u001b[0;34m)\u001b[0m\u001b[0;34m\u001b[0m\u001b[0;34m\u001b[0m\u001b[0m\n\u001b[0m\u001b[1;32m    253\u001b[0m \u001b[0;34m\u001b[0m\u001b[0m\n\u001b[1;32m    254\u001b[0m         \u001b[0;32mif\u001b[0m \u001b[0mvisualize_flg\u001b[0m\u001b[0;34m:\u001b[0m\u001b[0;34m\u001b[0m\u001b[0;34m\u001b[0m\u001b[0m\n",
            "\u001b[0;32m<ipython-input-52-6af34a4aa6f8>\u001b[0m in \u001b[0;36mreconstruct\u001b[0;34m(self, features, file_name)\u001b[0m\n\u001b[1;32m    184\u001b[0m         features_inv = librosa.griffinlim(features,\n\u001b[1;32m    185\u001b[0m                                           \u001b[0mhop_length\u001b[0m\u001b[0;34m=\u001b[0m\u001b[0mself\u001b[0m\u001b[0;34m.\u001b[0m\u001b[0mhop_length\u001b[0m\u001b[0;34m,\u001b[0m\u001b[0;34m\u001b[0m\u001b[0;34m\u001b[0m\u001b[0m\n\u001b[0;32m--> 186\u001b[0;31m                                           win_length=self.frame_size)\n\u001b[0m\u001b[1;32m    187\u001b[0m         \u001b[0mlog\u001b[0m\u001b[0;34m(\u001b[0m\u001b[0;34m\"Shape of Inverse features: \"\u001b[0m \u001b[0;34m+\u001b[0m \u001b[0mstr\u001b[0m\u001b[0;34m(\u001b[0m\u001b[0mfeatures_inv\u001b[0m\u001b[0;34m.\u001b[0m\u001b[0mshape\u001b[0m\u001b[0;34m)\u001b[0m\u001b[0;34m,\u001b[0m \u001b[0;36m1\u001b[0m\u001b[0;34m)\u001b[0m\u001b[0;34m\u001b[0m\u001b[0;34m\u001b[0m\u001b[0m\n\u001b[1;32m    188\u001b[0m         \u001b[0mUtils\u001b[0m\u001b[0;34m.\u001b[0m\u001b[0m_create_folder_if_it_doesnt_exist\u001b[0m\u001b[0;34m(\u001b[0m\u001b[0mself\u001b[0m\u001b[0;34m.\u001b[0m\u001b[0mfile_dir\u001b[0m\u001b[0;34m)\u001b[0m\u001b[0;34m\u001b[0m\u001b[0;34m\u001b[0m\u001b[0m\n",
            "\u001b[0;32m/usr/local/lib/python3.7/dist-packages/librosa/core/spectrum.py\u001b[0m in \u001b[0;36mgriffinlim\u001b[0;34m(S, n_iter, hop_length, win_length, window, center, dtype, length, pad_mode, momentum, init, random_state)\u001b[0m\n\u001b[1;32m   2402\u001b[0m             \u001b[0mcenter\u001b[0m\u001b[0;34m=\u001b[0m\u001b[0mcenter\u001b[0m\u001b[0;34m,\u001b[0m\u001b[0;34m\u001b[0m\u001b[0;34m\u001b[0m\u001b[0m\n\u001b[1;32m   2403\u001b[0m             \u001b[0mdtype\u001b[0m\u001b[0;34m=\u001b[0m\u001b[0mdtype\u001b[0m\u001b[0;34m,\u001b[0m\u001b[0;34m\u001b[0m\u001b[0;34m\u001b[0m\u001b[0m\n\u001b[0;32m-> 2404\u001b[0;31m             \u001b[0mlength\u001b[0m\u001b[0;34m=\u001b[0m\u001b[0mlength\u001b[0m\u001b[0;34m,\u001b[0m\u001b[0;34m\u001b[0m\u001b[0;34m\u001b[0m\u001b[0m\n\u001b[0m\u001b[1;32m   2405\u001b[0m         )\n\u001b[1;32m   2406\u001b[0m \u001b[0;34m\u001b[0m\u001b[0m\n",
            "\u001b[0;32m/usr/local/lib/python3.7/dist-packages/librosa/core/spectrum.py\u001b[0m in \u001b[0;36mistft\u001b[0;34m(stft_matrix, hop_length, win_length, window, center, dtype, length)\u001b[0m\n\u001b[1;32m    369\u001b[0m \u001b[0;34m\u001b[0m\u001b[0m\n\u001b[1;32m    370\u001b[0m     \u001b[0;31m# Pad out to match n_fft, and add a broadcasting axis\u001b[0m\u001b[0;34m\u001b[0m\u001b[0;34m\u001b[0m\u001b[0;34m\u001b[0m\u001b[0m\n\u001b[0;32m--> 371\u001b[0;31m     \u001b[0mifft_window\u001b[0m \u001b[0;34m=\u001b[0m \u001b[0mutil\u001b[0m\u001b[0;34m.\u001b[0m\u001b[0mpad_center\u001b[0m\u001b[0;34m(\u001b[0m\u001b[0mifft_window\u001b[0m\u001b[0;34m,\u001b[0m \u001b[0mn_fft\u001b[0m\u001b[0;34m)\u001b[0m\u001b[0;34m[\u001b[0m\u001b[0;34m:\u001b[0m\u001b[0;34m,\u001b[0m \u001b[0mnp\u001b[0m\u001b[0;34m.\u001b[0m\u001b[0mnewaxis\u001b[0m\u001b[0;34m]\u001b[0m\u001b[0;34m\u001b[0m\u001b[0;34m\u001b[0m\u001b[0m\n\u001b[0m\u001b[1;32m    372\u001b[0m \u001b[0;34m\u001b[0m\u001b[0m\n\u001b[1;32m    373\u001b[0m     \u001b[0;31m# For efficiency, trim STFT frames according to signal length if available\u001b[0m\u001b[0;34m\u001b[0m\u001b[0;34m\u001b[0m\u001b[0;34m\u001b[0m\u001b[0m\n",
            "\u001b[0;32m/usr/local/lib/python3.7/dist-packages/librosa/util/utils.py\u001b[0m in \u001b[0;36mpad_center\u001b[0;34m(data, size, axis, **kwargs)\u001b[0m\n\u001b[1;32m    446\u001b[0m     \u001b[0;32mif\u001b[0m \u001b[0mlpad\u001b[0m \u001b[0;34m<\u001b[0m \u001b[0;36m0\u001b[0m\u001b[0;34m:\u001b[0m\u001b[0;34m\u001b[0m\u001b[0;34m\u001b[0m\u001b[0m\n\u001b[1;32m    447\u001b[0m         raise ParameterError(\n\u001b[0;32m--> 448\u001b[0;31m             \u001b[0;34m(\u001b[0m\u001b[0;34m\"Target size ({:d}) must be \"\u001b[0m \u001b[0;34m\"at least input size ({:d})\"\u001b[0m\u001b[0;34m)\u001b[0m\u001b[0;34m.\u001b[0m\u001b[0mformat\u001b[0m\u001b[0;34m(\u001b[0m\u001b[0msize\u001b[0m\u001b[0;34m,\u001b[0m \u001b[0mn\u001b[0m\u001b[0;34m)\u001b[0m\u001b[0;34m\u001b[0m\u001b[0;34m\u001b[0m\u001b[0m\n\u001b[0m\u001b[1;32m    449\u001b[0m         )\n\u001b[1;32m    450\u001b[0m \u001b[0;34m\u001b[0m\u001b[0m\n",
            "\u001b[0;31mParameterError\u001b[0m: Target size (510) must be at least input size (512)"
          ]
        }
      ]
    },
    {
      "cell_type": "markdown",
      "metadata": {
        "id": "BW51A3rK_vPk"
      },
      "source": [
        "### Trying to find optimal hop_length"
      ]
    },
    {
      "cell_type": "code",
      "metadata": {
        "id": "lyi5nSFM4GWL"
      },
      "source": [
        "\n",
        "for i in range(256, 512, 20):\n",
        "    break\n",
        "    print(i)\n",
        "    FILE_NAME_REGEX = \"^00001-02 .*\\.wav$\"\n",
        "    NUMBER_OF_CLIPS = 1\n",
        "    OFFSET = 0.25\n",
        "\n",
        "    loader = Loader(SAMPLE_RATE, OFFSET, DURATION, MONO)\n",
        "    preprocessing_pipeline.loader = loader\n",
        "\n",
        "    log_spectrogram_extractor = LogSpectrogramExtractor(FRAME_SIZE, i)\n",
        "    preprocessing_pipeline.extractor = log_spectrogram_extractor\n",
        "\n",
        "    visualizer = Visualizer(SPECTROGRAMS_IMG_SAVE_DIR, FRAME_SIZE, i)\n",
        "    preprocessing_pipeline.visualizer = visualizer\n",
        "\n",
        "    preprocessing_pipeline.process(AUDIO_FILES_DIR, FILE_NAME_REGEX, NUMBER_OF_CLIPS)\n",
        "    break"
      ],
      "execution_count": null,
      "outputs": []
    },
    {
      "cell_type": "markdown",
      "metadata": {
        "id": "8TASCnxqAjcz"
      },
      "source": [
        "### Reconstruting the Audio"
      ]
    },
    {
      "cell_type": "code",
      "metadata": {
        "colab": {
          "base_uri": "https://localhost:8080/",
          "height": 363
        },
        "id": "Dk9BrpYQAjP5",
        "outputId": "e22b2a88-3282-4b1d-ddd1-befa8a82767c"
      },
      "source": [
        "import soundfile as sf\n",
        "y, sr = librosa.load('/content/drive/MyDrive/Music/VAE/audio/00001-01 01A US Double Nrm.wav')\n",
        "print(y.shape)\n",
        "# Get the magnitude spectrogram\n",
        "S = np.abs(librosa.stft(y))\n",
        "print(S.shape)\n",
        "\n",
        "\n",
        "\n",
        "# Invert using Griffin-Lim\n",
        "y_inv = librosa.griffinlim(S)\n",
        "print(y_inv.shape)\n",
        "sf.write('/content/drive/MyDrive/Music/VAE/sample.wav', y_inv, sr)\n",
        "\n",
        "\n",
        "# Invert without estimating phase\n",
        "y_istft = librosa.istft(S)\n",
        "\n",
        "\n",
        "import matplotlib.pyplot as plt\n",
        "fig, ax = plt.subplots(nrows=3, sharex=True, sharey=True)\n",
        "\n",
        "\n",
        "librosa.display.waveshow(y, sr=sr, color='b', ax=ax[0])\n",
        "ax[0].set(title='Original', xlabel=None)\n",
        "ax[0].label_outer()\n",
        "librosa.display.waveshow(y_inv, sr=sr, color='g', ax=ax[1])\n",
        "ax[1].set(title='Griffin-Lim reconstruction', xlabel=None)\n",
        "ax[1].label_outer()\n",
        "librosa.display.waveshow(y_istft, sr=sr, color='r', ax=ax[2])\n",
        "ax[2].set_title('Magnitude-only istft reconstruction')"
      ],
      "execution_count": 33,
      "outputs": [
        {
          "output_type": "stream",
          "name": "stdout",
          "text": [
            "(198450,)\n",
            "(1025, 388)\n",
            "(198144,)\n"
          ]
        },
        {
          "output_type": "execute_result",
          "data": {
            "text/plain": [
              "Text(0.5, 1.0, 'Magnitude-only istft reconstruction')"
            ]
          },
          "metadata": {},
          "execution_count": 33
        },
        {
          "output_type": "display_data",
          "data": {
            "image/png": "[encoded data removed]",
            "text/plain": [
              "<Figure size 432x288 with 3 Axes>"
            ]
          },
          "metadata": {
            "needs_background": "light"
          }
        }
      ]
    },
    {
      "cell_type": "code",
      "metadata": {
        "colab": {
          "base_uri": "https://localhost:8080/"
        },
        "id": "m3ettLQJFjfP",
        "outputId": "56352312-0e13-4d25-eefe-9dc0b91c0ce7"
      },
      "source": [
        "import soundfile as sf\n",
        "data, samplerate = sf.read('/content/drive/MyDrive/Music/VAE/audio/00001-01 01A US Double Nrm.wav')\n",
        "print(data)\n",
        "\n",
        "librosa.output.write_wav('file_trim_5s.wav', y, sr)\n",
        "print(samplerate)\n"
      ],
      "execution_count": 27,
      "outputs": [
        {
          "output_type": "stream",
          "name": "stdout",
          "text": [
            "[[ 0.00000000e+00  0.00000000e+00]\n",
            " [ 0.00000000e+00  0.00000000e+00]\n",
            " [ 0.00000000e+00  0.00000000e+00]\n",
            " ...\n",
            " [-6.59232028e-05 -6.59232028e-05]\n",
            " [-6.61616214e-05 -6.61616214e-05]\n",
            " [-6.62808307e-05 -6.62808307e-05]]\n",
            "44100\n"
          ]
        }
      ]
    }
  ]
}